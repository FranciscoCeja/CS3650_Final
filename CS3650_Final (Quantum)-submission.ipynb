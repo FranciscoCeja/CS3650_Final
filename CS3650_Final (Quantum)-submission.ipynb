{
 "cells": [
  {
   "cell_type": "code",
   "execution_count": 1,
   "metadata": {},
   "outputs": [],
   "source": [
    "from qiskit import IBMQ, BasicAer\n",
    "from qiskit import ClassicalRegister, QuantumRegister, QuantumCircuit"
   ]
  },
  {
   "cell_type": "code",
   "execution_count": 2,
   "metadata": {},
   "outputs": [
    {
     "data": {
      "text/plain": [
       "<qiskit.circuit.instructionset.InstructionSet at 0x1a22d74908>"
      ]
     },
     "execution_count": 2,
     "metadata": {},
     "output_type": "execute_result"
    }
   ],
   "source": [
    "# 3 qubits\n",
    "q = QuantumRegister (3)\n",
    "c = ClassicalRegister(3)\n",
    "\n",
    "# Quantum Circuit\n",
    "qcircuit = QuantumCircuit(q,c)\n",
    "# Placing an H gate on all qubits\n",
    "qcircuit.h(q)\n",
    "# Placing measuremnt on all qubits\n",
    "qcircuit.measure(q,c)\n"
   ]
  },
  {
   "cell_type": "code",
   "execution_count": 3,
   "metadata": {},
   "outputs": [
    {
     "data": {
      "text/html": [
       "<pre style=\"word-wrap: normal;white-space: pre;line-height: 15px;\">         ┌───┐┌─┐      \n",
       "q0_0: |0>┤ H ├┤M├──────\n",
       "         ├───┤└╥┘┌─┐   \n",
       "q0_1: |0>┤ H ├─╫─┤M├───\n",
       "         ├───┤ ║ └╥┘┌─┐\n",
       "q0_2: |0>┤ H ├─╫──╫─┤M├\n",
       "         └───┘ ║  ║ └╥┘\n",
       " c0_0: 0 ══════╩══╬══╬═\n",
       "                  ║  ║ \n",
       " c0_1: 0 ═════════╩══╬═\n",
       "                     ║ \n",
       " c0_2: 0 ════════════╩═\n",
       "                       </pre>"
      ],
      "text/plain": [
       "<qiskit.visualization.text.TextDrawing at 0x10e5a6208>"
      ]
     },
     "execution_count": 3,
     "metadata": {},
     "output_type": "execute_result"
    }
   ],
   "source": [
    "qcircuit.draw()"
   ]
  },
  {
   "cell_type": "code",
   "execution_count": 4,
   "metadata": {},
   "outputs": [],
   "source": [
    "def roll(result1, results2):\n",
    "\n",
    "    print('The dice rolled are:')\n",
    "\n",
    "    die1 = answer(result1)\n",
    "    die2 = answer(result2)\n",
    "    \n",
    "    print(die1)\n",
    "    print(die2)\n",
    "    \n",
    "    if (die1 == \";(\") and (die2 == \";(\"):\n",
    "        print('You rolled double sad faces, you engtangledly Lose!')\n",
    "        return -1\n",
    "        \n",
    "    elif (die1 == \":)\") and (die2 == \":)\"):\n",
    "        print('You rolled double happy faces, you entangledly Win!')\n",
    "        return -1\n",
    "    \n",
    "    elif ((die1 == \":)\")and(die2 == \";(\")) or ((die1 == \";(\")and(die2 == \":)\")):\n",
    "        print('You are superpositioned, you Win and you Lose!')\n",
    "        return -1\n",
    "    \n",
    "    elif (die1 == \";(\") or (die2 == \";(\"):\n",
    "        print('You rolled a sad face, you Lose!')\n",
    "        return -1\n",
    "    \n",
    "    elif (die1 == \":)\") or (die2 == \":)\"):\n",
    "        print('You rolled a happy face, you Win!')\n",
    "        return -1\n",
    "    else:\n",
    "        score = die1 + die2\n",
    "        return score"
   ]
  },
  {
   "cell_type": "code",
   "execution_count": 5,
   "metadata": {},
   "outputs": [],
   "source": [
    "def answer(result):\n",
    "    for key in result.keys():\n",
    "        state = key\n",
    "    if state == ('000'):\n",
    "        dieResult = 1\n",
    "        return dieResult\n",
    "    \n",
    "    elif state == ('001'):\n",
    "        dieResult = 2\n",
    "        return dieResult\n",
    "    \n",
    "    elif state == ('010'):\n",
    "        dieResult = 3\n",
    "        return dieResult\n",
    "\n",
    "    elif state == ('011'):\n",
    "        dieResult = 4\n",
    "        return dieResult\n",
    "        \n",
    "    elif state == ('100'):\n",
    "        dieResult = 5\n",
    "        return dieResult\n",
    "        \n",
    "    elif state == ('101'):\n",
    "        dieResult = 6\n",
    "        return dieResult\n",
    "    \n",
    "    elif state == ('110'):\n",
    "        lose = \";(\"\n",
    "        return lose\n",
    "        \n",
    "    else: # '111'\n",
    "        win = \":)\"\n",
    "        return win"
   ]
  },
  {
   "cell_type": "code",
   "execution_count": 6,
   "metadata": {},
   "outputs": [],
   "source": [
    "IBMQ.load_accounts()"
   ]
  },
  {
   "cell_type": "code",
   "execution_count": 7,
   "metadata": {},
   "outputs": [
    {
     "name": "stdout",
     "output_type": "stream",
     "text": [
      "The least busy device: ibmqx2\n"
     ]
    }
   ],
   "source": [
    "from qiskit.providers.ibmq import least_busy\n",
    "backend = least_busy(IBMQ.backends(simulator=False))\n",
    "print(\"The least busy device:\", backend.name())"
   ]
  },
  {
   "cell_type": "code",
   "execution_count": null,
   "metadata": {},
   "outputs": [],
   "source": [
    "from qiskit import execute\n",
    "\n",
    "totalScore = 0\n",
    "\n",
    "print('Can you reach 21 points before losing?')\n",
    "\n",
    "while totalScore < 21:\n",
    "    \n",
    "    # calls server\n",
    "    job1 = execute(qcircuit, backend=backend, shots=1)\n",
    "    result1 = job1.result().get_counts(qcircuit)\n",
    "\n",
    "    job2 = execute(qcircuit, backend=backend, shots=1)\n",
    "    result2 = job2.result().get_counts(qcircuit)\n",
    "    \n",
    "    cont = input(\"**Press Enter to roll**\\n\")\n",
    "    rollScore = roll(result1, result2)\n",
    "    \n",
    "    # lost, reset\n",
    "    if rollScore == -1:\n",
    "        cont = input('Play again? Press Enter')\n",
    "        totalScore = 0\n",
    "    \n",
    "    # update score\n",
    "    if rollScore!= -1:\n",
    "        totalScore = rollScore + totalScore\n",
    "        print(\"Total Score is: \", totalScore)\n",
    "    \n",
    "    # checks if win\n",
    "    if totalScore >= 21:\n",
    "        print('You win!')\n",
    "        cont = input('Play again? Press Enter')\n",
    "        totalScore = 0"
   ]
  }
 ],
 "metadata": {
  "kernelspec": {
   "display_name": "Python (Qiskitenv)",
   "language": "python",
   "name": "qiskitenv"
  },
  "language_info": {
   "codemirror_mode": {
    "name": "ipython",
    "version": 3
   },
   "file_extension": ".py",
   "mimetype": "text/x-python",
   "name": "python",
   "nbconvert_exporter": "python",
   "pygments_lexer": "ipython3",
   "version": "3.7.3"
  }
 },
 "nbformat": 4,
 "nbformat_minor": 2
}
